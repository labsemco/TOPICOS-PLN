{
 "cells": [
  {
   "cell_type": "markdown",
   "metadata": {},
   "source": [
    "# Notebook de Preprocesamiento de texto"
   ]
  },
  {
   "cell_type": "code",
   "execution_count": 1,
   "metadata": {},
   "outputs": [],
   "source": [
    "run_parquet_processing = 0"
   ]
  },
  {
   "cell_type": "code",
   "execution_count": 2,
   "metadata": {},
   "outputs": [],
   "source": [
    "from pathlib import Path\n",
    "import pandas as pd\n",
    "# \n",
    "if run_parquet_processing == 1:\n",
    "    data_dir = Path('dataset\\\\')\n",
    "    full_df = pd.concat(\n",
    "        pd.read_parquet(parquet_file)\n",
    "        for parquet_file in data_dir.glob('*.parquet')\n",
    "    )\n",
    "    full_df.to_csv('wiki_data.csv')\n",
    "else:\n",
    "    full_df = pd.read_csv('wiki_data.csv', index_col=None)"
   ]
  },
  {
   "cell_type": "markdown",
   "metadata": {},
   "source": [
    "## Análisis del Conjunto de datos (Wikipedia Español)"
   ]
  },
  {
   "cell_type": "code",
   "execution_count": 3,
   "metadata": {},
   "outputs": [
    {
     "name": "stdout",
     "output_type": "stream",
     "text": [
      "Cantidad de posts de wiki en el dataset: 1841155 documentos\n"
     ]
    }
   ],
   "source": [
    "n_docs = f'Cantidad de posts de wiki en el dataset: {len(full_df)} documentos'\n",
    "print(n_docs)"
   ]
  },
  {
   "cell_type": "code",
   "execution_count": 4,
   "metadata": {},
   "outputs": [
    {
     "data": {
      "text/html": [
       "<div>\n",
       "<style scoped>\n",
       "    .dataframe tbody tr th:only-of-type {\n",
       "        vertical-align: middle;\n",
       "    }\n",
       "\n",
       "    .dataframe tbody tr th {\n",
       "        vertical-align: top;\n",
       "    }\n",
       "\n",
       "    .dataframe thead th {\n",
       "        text-align: right;\n",
       "    }\n",
       "</style>\n",
       "<table border=\"1\" class=\"dataframe\">\n",
       "  <thead>\n",
       "    <tr style=\"text-align: right;\">\n",
       "      <th></th>\n",
       "      <th>Unnamed: 0</th>\n",
       "      <th>id</th>\n",
       "      <th>url</th>\n",
       "      <th>title</th>\n",
       "      <th>text</th>\n",
       "    </tr>\n",
       "  </thead>\n",
       "  <tbody>\n",
       "    <tr>\n",
       "      <th>0</th>\n",
       "      <td>0</td>\n",
       "      <td>7</td>\n",
       "      <td>https://es.wikipedia.org/wiki/Andorra</td>\n",
       "      <td>Andorra</td>\n",
       "      <td>Andorra, oficialmente Principado de Andorra ()...</td>\n",
       "    </tr>\n",
       "    <tr>\n",
       "      <th>1</th>\n",
       "      <td>1</td>\n",
       "      <td>10</td>\n",
       "      <td>https://es.wikipedia.org/wiki/Argentina</td>\n",
       "      <td>Argentina</td>\n",
       "      <td>Argentina, oficialmente, República Argentina, ...</td>\n",
       "    </tr>\n",
       "    <tr>\n",
       "      <th>2</th>\n",
       "      <td>2</td>\n",
       "      <td>15</td>\n",
       "      <td>https://es.wikipedia.org/wiki/Geograf%C3%ADa%2...</td>\n",
       "      <td>Geografía de Andorra</td>\n",
       "      <td>El Principado de Andorra (nombre local, Princi...</td>\n",
       "    </tr>\n",
       "    <tr>\n",
       "      <th>3</th>\n",
       "      <td>3</td>\n",
       "      <td>17</td>\n",
       "      <td>https://es.wikipedia.org/wiki/Demograf%C3%ADa%...</td>\n",
       "      <td>Demografía de Andorra</td>\n",
       "      <td>Andorra cuenta con 81.588 habitantes y una den...</td>\n",
       "    </tr>\n",
       "    <tr>\n",
       "      <th>4</th>\n",
       "      <td>4</td>\n",
       "      <td>19</td>\n",
       "      <td>https://es.wikipedia.org/wiki/Artes%20visuales</td>\n",
       "      <td>Artes visuales</td>\n",
       "      <td>Las artes visuales engloban las artes plástica...</td>\n",
       "    </tr>\n",
       "    <tr>\n",
       "      <th>5</th>\n",
       "      <td>5</td>\n",
       "      <td>20</td>\n",
       "      <td>https://es.wikipedia.org/wiki/Agricultura</td>\n",
       "      <td>Agricultura</td>\n",
       "      <td>La agricultura (del latín agri ‘campo’ y cultū...</td>\n",
       "    </tr>\n",
       "    <tr>\n",
       "      <th>6</th>\n",
       "      <td>6</td>\n",
       "      <td>22</td>\n",
       "      <td>https://es.wikipedia.org/wiki/Astronom%C3%ADa%...</td>\n",
       "      <td>Astronomía galáctica</td>\n",
       "      <td>Se denomina astronomía galáctica a la investig...</td>\n",
       "    </tr>\n",
       "    <tr>\n",
       "      <th>7</th>\n",
       "      <td>7</td>\n",
       "      <td>23</td>\n",
       "      <td>https://es.wikipedia.org/wiki/ASCII</td>\n",
       "      <td>ASCII</td>\n",
       "      <td>ASCII (acrónimo inglés de American Standard Co...</td>\n",
       "    </tr>\n",
       "    <tr>\n",
       "      <th>8</th>\n",
       "      <td>8</td>\n",
       "      <td>24</td>\n",
       "      <td>https://es.wikipedia.org/wiki/Arquitectura</td>\n",
       "      <td>Arquitectura</td>\n",
       "      <td>La arquitectura (del latín architectūra, archi...</td>\n",
       "    </tr>\n",
       "    <tr>\n",
       "      <th>9</th>\n",
       "      <td>9</td>\n",
       "      <td>26</td>\n",
       "      <td>https://es.wikipedia.org/wiki/Anoeta</td>\n",
       "      <td>Anoeta</td>\n",
       "      <td>Anoeta es una localidad y municipio guipuzcoan...</td>\n",
       "    </tr>\n",
       "    <tr>\n",
       "      <th>10</th>\n",
       "      <td>10</td>\n",
       "      <td>27</td>\n",
       "      <td>https://es.wikipedia.org/wiki/Ana%20Mar%C3%ADa...</td>\n",
       "      <td>Ana María Matute</td>\n",
       "      <td>Ana María Matute Ausejo (Barcelona, 26 de juli...</td>\n",
       "    </tr>\n",
       "    <tr>\n",
       "      <th>11</th>\n",
       "      <td>11</td>\n",
       "      <td>28</td>\n",
       "      <td>https://es.wikipedia.org/wiki/Agujero%20negro</td>\n",
       "      <td>Agujero negro</td>\n",
       "      <td>Un agujero negro es una región finita del espa...</td>\n",
       "    </tr>\n",
       "    <tr>\n",
       "      <th>12</th>\n",
       "      <td>12</td>\n",
       "      <td>32</td>\n",
       "      <td>https://es.wikipedia.org/wiki/Anarqu%C3%ADa</td>\n",
       "      <td>Anarquía</td>\n",
       "      <td>La palabra anarquía deriva del griego «ἀναρχία...</td>\n",
       "    </tr>\n",
       "    <tr>\n",
       "      <th>13</th>\n",
       "      <td>13</td>\n",
       "      <td>33</td>\n",
       "      <td>https://es.wikipedia.org/wiki/Am%C3%A9rica%20d...</td>\n",
       "      <td>América del Norte</td>\n",
       "      <td>América del Norte o Norteamérica (también llam...</td>\n",
       "    </tr>\n",
       "    <tr>\n",
       "      <th>14</th>\n",
       "      <td>14</td>\n",
       "      <td>35</td>\n",
       "      <td>https://es.wikipedia.org/wiki/Am%C3%A9rica%20d...</td>\n",
       "      <td>América del Sur</td>\n",
       "      <td>América del Sur, Sudamérica o Suramérica es un...</td>\n",
       "    </tr>\n",
       "    <tr>\n",
       "      <th>15</th>\n",
       "      <td>15</td>\n",
       "      <td>36</td>\n",
       "      <td>https://es.wikipedia.org/wiki/Asia</td>\n",
       "      <td>Asia</td>\n",
       "      <td>Asia es el continente más grande y poblado de ...</td>\n",
       "    </tr>\n",
       "    <tr>\n",
       "      <th>16</th>\n",
       "      <td>16</td>\n",
       "      <td>37</td>\n",
       "      <td>https://es.wikipedia.org/wiki/A%C3%B1o</td>\n",
       "      <td>Año</td>\n",
       "      <td>Un año, año terrestre, año sideral, sidéreo o ...</td>\n",
       "    </tr>\n",
       "    <tr>\n",
       "      <th>17</th>\n",
       "      <td>17</td>\n",
       "      <td>38</td>\n",
       "      <td>https://es.wikipedia.org/wiki/Asaph%20Hall</td>\n",
       "      <td>Asaph Hall</td>\n",
       "      <td>Asaph Hall (Goshen, Connecticut; 15 de octubre...</td>\n",
       "    </tr>\n",
       "    <tr>\n",
       "      <th>18</th>\n",
       "      <td>18</td>\n",
       "      <td>39</td>\n",
       "      <td>https://es.wikipedia.org/wiki/Afganist%C3%A1n</td>\n",
       "      <td>Afganistán</td>\n",
       "      <td>Afganistán (, ; , ; ), oficialmente el Emirato...</td>\n",
       "    </tr>\n",
       "    <tr>\n",
       "      <th>19</th>\n",
       "      <td>19</td>\n",
       "      <td>40</td>\n",
       "      <td>https://es.wikipedia.org/wiki/Arqueolog%C3%ADa</td>\n",
       "      <td>Arqueología</td>\n",
       "      <td>La arqueología (del griego «ἀρχαίος» archaios,...</td>\n",
       "    </tr>\n",
       "  </tbody>\n",
       "</table>\n",
       "</div>"
      ],
      "text/plain": [
       "    Unnamed: 0  id                                                url  \\\n",
       "0            0   7              https://es.wikipedia.org/wiki/Andorra   \n",
       "1            1  10            https://es.wikipedia.org/wiki/Argentina   \n",
       "2            2  15  https://es.wikipedia.org/wiki/Geograf%C3%ADa%2...   \n",
       "3            3  17  https://es.wikipedia.org/wiki/Demograf%C3%ADa%...   \n",
       "4            4  19     https://es.wikipedia.org/wiki/Artes%20visuales   \n",
       "5            5  20          https://es.wikipedia.org/wiki/Agricultura   \n",
       "6            6  22  https://es.wikipedia.org/wiki/Astronom%C3%ADa%...   \n",
       "7            7  23                https://es.wikipedia.org/wiki/ASCII   \n",
       "8            8  24         https://es.wikipedia.org/wiki/Arquitectura   \n",
       "9            9  26               https://es.wikipedia.org/wiki/Anoeta   \n",
       "10          10  27  https://es.wikipedia.org/wiki/Ana%20Mar%C3%ADa...   \n",
       "11          11  28      https://es.wikipedia.org/wiki/Agujero%20negro   \n",
       "12          12  32        https://es.wikipedia.org/wiki/Anarqu%C3%ADa   \n",
       "13          13  33  https://es.wikipedia.org/wiki/Am%C3%A9rica%20d...   \n",
       "14          14  35  https://es.wikipedia.org/wiki/Am%C3%A9rica%20d...   \n",
       "15          15  36                 https://es.wikipedia.org/wiki/Asia   \n",
       "16          16  37             https://es.wikipedia.org/wiki/A%C3%B1o   \n",
       "17          17  38         https://es.wikipedia.org/wiki/Asaph%20Hall   \n",
       "18          18  39      https://es.wikipedia.org/wiki/Afganist%C3%A1n   \n",
       "19          19  40     https://es.wikipedia.org/wiki/Arqueolog%C3%ADa   \n",
       "\n",
       "                    title                                               text  \n",
       "0                 Andorra  Andorra, oficialmente Principado de Andorra ()...  \n",
       "1               Argentina  Argentina, oficialmente, República Argentina, ...  \n",
       "2    Geografía de Andorra  El Principado de Andorra (nombre local, Princi...  \n",
       "3   Demografía de Andorra  Andorra cuenta con 81.588 habitantes y una den...  \n",
       "4          Artes visuales  Las artes visuales engloban las artes plástica...  \n",
       "5             Agricultura  La agricultura (del latín agri ‘campo’ y cultū...  \n",
       "6    Astronomía galáctica  Se denomina astronomía galáctica a la investig...  \n",
       "7                   ASCII  ASCII (acrónimo inglés de American Standard Co...  \n",
       "8            Arquitectura  La arquitectura (del latín architectūra, archi...  \n",
       "9                  Anoeta  Anoeta es una localidad y municipio guipuzcoan...  \n",
       "10       Ana María Matute  Ana María Matute Ausejo (Barcelona, 26 de juli...  \n",
       "11          Agujero negro  Un agujero negro es una región finita del espa...  \n",
       "12               Anarquía  La palabra anarquía deriva del griego «ἀναρχία...  \n",
       "13      América del Norte  América del Norte o Norteamérica (también llam...  \n",
       "14        América del Sur  América del Sur, Sudamérica o Suramérica es un...  \n",
       "15                   Asia  Asia es el continente más grande y poblado de ...  \n",
       "16                    Año  Un año, año terrestre, año sideral, sidéreo o ...  \n",
       "17             Asaph Hall  Asaph Hall (Goshen, Connecticut; 15 de octubre...  \n",
       "18             Afganistán  Afganistán (, ; , ; ), oficialmente el Emirato...  \n",
       "19            Arqueología  La arqueología (del griego «ἀρχαίος» archaios,...  "
      ]
     },
     "execution_count": 4,
     "metadata": {},
     "output_type": "execute_result"
    }
   ],
   "source": [
    "full_df.head(20)"
   ]
  },
  {
   "cell_type": "code",
   "execution_count": 5,
   "metadata": {},
   "outputs": [
    {
     "data": {
      "text/plain": [
       "\"Afganistán (, ; , ; ), oficialmente el Emirato Islámico de Afganistán (, ; , ), es un país montañoso sin salida al mar ubicado en Asia del Sur. Limita con Pakistán al sur y al este, con Irán al oeste, con Turkmenistán, Uzbekistán y Tayikistán al norte, y con China al noreste, a través del corredor de Waján. Su forma de gobierno actual es la de una monarquía religiosa constituida como emirato islámico; su capital y ciudad más grande es Kabul, con una población estimada de 4,6 millones de personas, en su mayoría pastunes, tayikos, hazaras, uzbekos y turcomanos.\\n\\nLa particular situación geográfica de Afganistán lo ha convertido en un lugar de encuentro de imperios y civilizaciones, así como un espacio de intercambio y comunicación de importantes polos culturales y comerciales; entre ellos destaca la ruta de la seda. Este hecho, así como su estructura tribal, hace difícil la definición de Afganistán como Estado a lo largo de la historia. En este contexto, el territorio recibió tres denominaciones principales en su evolución: Ariana (asentamiento de tribus arias en el II milenio a.\\xa0C.),Jorasán (medievo) y Afganistán en la Edad Moderna. La historia del territorio que ocupa hoy Afganistán es vasta, hay indicios de quienes habitaron estas tierras desde la época de la Prehistoria. Desde la Edad Antigua, pasando por la Edad Media, Edad Moderna y hasta la Edad Contemporánea ha sido parte de muchos imperios y reinos.\\n\\nEtimología \\n\\nEl nombre Afganistán (افغانستان en dari y en pastún) deriva directamente de la forma árabe Afġānistan, basada a su vez en una forma irania que significa ‘tierra de los afganos’ (afghāni 'afgano' + persa stan 'país'). En su uso moderno, deriva de la palabra afgano. Los pastunes comenzaron a usar este término para identificarlos. El sufijo -stan significa «tierra», por ende, Afganistán significa la tierra de los afganos; este sufijo se usa asimismo en otros países de Asia.\\n\\nHistoria \\n\\nLos primeros rastros humanos en Afganistán se remontan al Paleolítico Medio, y la ubicación estratégica del país a lo largo de la Ruta de la Seda lo conectaba con las culturas del Oriente Medio y otras partes de Asia. Históricamente, su territorio ha estado habitado por varios pueblos y ha sido testigo de numerosas campañas militares; incluidas las de Alejandro Magno, los Maurya, los árabes musulmanes, los mongoles, los británicos, los soviéticos y los Estados Unidos junto a los países aliados de la OTAN. Se le conoce por ello como el «cementerio de imperios», aunque ha sido ocupado durante varios períodos diferentes de su historia. Esta tierra también sirvió como la fuente de la cual los grecobactrianos, kushanes, heftalitas, samánidas, saffaríes, gaznávidas, gúridas, khiljis, mogoles, hotakis, durranis y otros se han levantado para forjar grandes imperios.\\n\\nEl Afganistán actual comenzó con las dinastías hotaki y durrani en el . A finales del , Afganistán se convirtió en un Estado bisagra en «El Gran Juego» entre la India británica y el Imperio ruso. Después de la tercera guerra anglo-afgana en 1919, el país se liberó del dominio extranjero y finalmente se convirtió en el Reino de Afganistán en junio de 1926 bajo el rey Amanulá Khan. Este reino duró casi cincuenta años, hasta que el rey Mohammed Zahir Shah fue derrocado mediante el golpe de Estado de Mohamed Daud Khan y se estableció la República de Afganistán, en 1973. En 1978, tras la Revolución de Saur, en Afganistán se estableció la República Democrática de Afganistán. La intervención de la Unión Soviética en apoyo del Gobierno comunista, dio inicio a la guerra de Afganistán de 1978 a 1992, contra la guerrilla islámica, que recibió el apoyo de Estados Unidos, Arabia Saudita, Pakistán y otras naciones occidentales y musulmanas. Los soviéticos se retiraron en 1989, pero la guerra civil prosiguió hasta que en 1996 los talibanes establecieron el Emirato Islámico de Afganistán basado en su interpretación de la Sharia, que gobernó la mayor parte del país como un régimen totalitario durante cinco años. \\n\\nEn 2001, en reacción a los atentados del 11 de septiembre de 2001, una coalición internacional de la OTAN liderada por Estados Unidos entró en el país para derrocar a los talibanes y colocó en el poder al Gobierno que constituye la República Islámica de Afganistán, dando inicio a una nueva guerra de Afganistán. En 2014, Estados Unidos y la OTAN declararon formalmente que abandonaban la guerra, pero mantuvieron tropas en el país en apoyo al Gobierno. En septiembre de 2020 el Gobierno y los Talibánes –que controlaban más de la mitad del territorio nacional en aquel entonces– iniciaron negociaciones consideradas «históricas» con el fin de alcanzar la paz y constituir un nuevo régimen constitucional, que pueda combinar ambas visiones del Estado islámico. Las negociaciones no prosperaron y las partes se mantuvieron en conflicto hasta 2021. El 8 de septiembre de 2021, el grupo talibán que gobernaba el país declaró a Afganistán como un Emirato Islámico y conformó un nuevo Gobierno.\\n\\nAntigüedad \\nLas excavaciones de los yacimientos prehistóricos permitieron saber que los humanos vivían en lo que hoy es Afganistán hace al menos 50000 años, y que las comunidades agrícolas de la zona fueron de las primeras en el mundo.\\n\\nEl territorio fue un punto de encuentro, donde numerosas civilizaciones interactuaron y a menudo se confrontaron. Ha estado habitado por varios pueblos a lo largo de diferentes épocas, destacándose los iranios, que tuvieron una importante función en el desarrollo de las civilizaciones de Asia Central. El territorio fue incorporado a importantes imperios, entre ellos el Imperio aqueménida, el Imperio Macedónico, el Imperio Maurya y el Imperio Árabe.\\n\\nÉpoca premusulmana \\nDe la prehistoria del país se conoce todavía poco. Sin embargo, durante las misiones de excavación francesas se descubrieron en Mundigak siete niveles de civilización que se escalonaban desde el IV milenio hasta alrededor del año  Los arios, provenientes del actual Irán, llegados del oeste, ocuparon el país en una época indeterminada y establecieron su etnia básica. Bajo la dinastía aqueménida, Afganistán, íntegramente conquistado por Ciro, rey de Persia, fue dividido en cinco satrapías por Darío I. La pax iránica reinó en el país durante dos siglos, lo que le permitió participar del gran esplendor de Irán y dejarse impregnar por la reforma religiosa de Zaratustra. La conquista de Alejandro Magno en el año 331\\xa0a.\\xa0C. provocó, más que en cualquier otra parte, una simbiosis entre Grecia, Irán y la India.\\n\\nTras la muerte de Alejandro, las satrapías subsistieron, librando sangrientas luchas. Sucesivamente, el país fue dominado por los seléucidas, la dinastía india de los Maurya, y el reino grecobactriano. A finales del  nuevas invasiones arias impusieron la preponderancia de la tribu kushana, que alcanzó su apogeo bajo Kujula Kadphises en el  y bajo la dinastía Kaniska en el . A pesar de la presencia de otras corrientes religiosas (como el altar del fuego en Surj Kotal), el país se entregó entonces al budismo, como muestran manifestaciones arquitectónicas tales como el Gran Santuario de Bamiyan. Su enorme auge fue solamente frenado por la nueva preponderancia de Irán bajo los sasánidas en el , y las invasiones de los hunos o heftalíes (mongoles), que trajeron la inseguridad y la opresión.\\n\\nIslam e invasión mongola \\nEn el 651, los sasánidas fueron vencidos por los ejércitos árabes (conquista de Harat), que ocuparon el país. Los árabes se enfrentaron a una viva resistencia que impidió una conquista árabe completa e hizo que la islamización fuese muy lenta: la antigua Kapici (región de Kabul) no fue convertida hasta finales del siglo IX, y hasta el  subsistieron numerosos principados, tanto vasallos como independientes.En el norte, los samaníes, iranios originarios de Samán, cerca de Balj, consiguieron la hegemonía. Los mercenarios turcos que habían reclutado, originaron una nueva era. En 962, uno de ellos, Alp Tigin, se hizo independiente en la región de Gazni. Sus sucesores, sobre todo Mahmud (999-1030) a la cabeza de la dinastía gaznávida, extendieron su dominación hasta Isfahán y lanzaron diecisiete expediciones contra la India. Convirtieron Gazni, rival de Bagdad, en un centro notable, donde brillaron artistas y escritores, entre ellos Ferdousí, el poeta nacional de Irán. Estos desaparecieron bajo el empuje de príncipes afganos, los guríes, que usurparon el poder. Desde entonces, afganos y turcos afganizados proporcionaron príncipes y mandos a las monarquías indo-musulmanas.\\n\\nEsta avanzada civilización de los siglos XI y XII, comparable a la del Afganistán budista de siglos anteriores, se hundió bajo la invasión de Gengis Khan, que se ensañó particularmente con el país (1221-1222). A las devastaciones mongoles se añadieron las de Timur Lang (Tamerlán), quien se hizo coronar en Balj, en 1370. Este fue culpable, entre otras cosas, de la ruina del importante sistema de riego, de lo que ya no se recuperaría jamás. Sin embargo, en torno a Herat se desarrolló el renacimiento timurí, iniciado con el Sha Ruj Mirza (1405-1447) y llevado a su cúspide por Husayn-i Bayqara (1469-1506), junto con su ministro Mir ‘Ali Sir Nawa´i. El Afganistán oriental, encerrado en sí mismo, vivió cierto renacimiento cuando el turco Baber (Babur) se instaló en Kabul en el año 1504 y conquistó la India, donde fundó la dinastía de los grandes mogoles, aunque siguió siendo para ellos una provincia lejana y olvidada. En la misma época, el Afganistán occidental pasó al poder de los safawi de Irán.\\n\\nDinastía durraní, imperialismo extranjero y reformas \\n\\nLa decadencia de los mogoles y el debilitamiento de los Safawíes, a principios del , hicieron que las inquietas tribus afganas recuperaran sus libertades y permitieron el nacimiento de un Estado afgano, gracias a la rebelión y la declaración de independencia de Mirwais Kan Hotak, jefe de la tribu de los Ghilzai, en 1709. Pero los Ghilzai tuvieron que afrontar el movimiento nacional de Nader Shah, que conquistó Kandahar y Kabul en 1738. Un oficial de Nader, Ahmad Khan, de la tribu de los abdalíes, se proclamó rey en Kandahar, tan pronto como Nader Shah fue asesinado (1747), y fundó la dinastía de los Durraníes, primera dinastía afgana independiente. Este intervino repetidas veces en la India, como sus antecesores, y constituyó un reino extenso pero inestable. Su sucesor, Timur Shah Durrani, que trasladó su capital a Kabul, mantuvo la paz en el reino, pero, tras su muerte, sus hijos y jefes tribales se disputaron su sucesión (1793). Finalmente, Dust Muhammad, cuya presencia se data desde 1818, fue reconocido emir en Kabul (1838) y fundó la dinastía de los Barakza'i o Muhammadza'i. Renunció a las provincias indias y se dedicó por entero a Afganistán, convertido en Estado tapón entre los imperios británico y ruso.\\n\\nDust Muhammad, unas veces víctima y otras veces beneficiario de la intervención británica, durante la primera guerra anglo-afgana (1839-1842), fue sustituido por Suya'al-Malk (1839) y, tras una insurrección y la aniquilación del ejército británico de Alexander Burnes (1842), fue restablecido en el trono a cambio de aceptar un protectorado británico.\\n\\nLa presión rusa sobre el Asia central llevó en 1878 a una segunda guerra afgana contra Gran Bretaña, y Abd ur-Rahman Khan (1880-1901) hubo de reconocer las fronteras de la «Línea Durand» en 1893. Los esfuerzos de Habib Allah (1901-1919) y de Aman Allah Khan (1919-1929) para sacar a su país del aislamiento fueron anulados por la voluntad británica de reforzarlo. Solamente la tercera guerra afgana, llamada de la independencia, consagró el pleno reconocimiento de la soberanía de Afganistán: armisticio de Rawalpindi (8 de agosto de 1919) y tratado de Kabul (22 de noviembre de 1921). Aman Allah Khan inició la modernización del país: constitución (1922), código administrativo (1923), comienzo de la instrucción femenina (1924), nueva constitución (1928), viaja a Europa y se hace coronar rey. La reacción conservadora no tardó mucho. El soberano fue derrocado, y un aventurero, Habib Allah Khan, ejerció durante seis meses una sangrienta dictadura.\\n\\nNadir Shah, pariente de Aman Allah Khan, eliminó al usurpador y se hizo proclamar rey en 1929. Instruido por la experiencia, reemprendió con prudencia las reformas, pero fue asesinado en 1933. Le sucedió su hijo Mohammed Zahir Shah de cultura francesa y adicto a ideas nuevas, quien hizo que su país entrara en la Sociedad de las Naciones (1934) y abrió progresivamente el país a la influencia exterior. En 1937 firmó el pacto de Sa'dabad con Turquía, Irán e Irak, pero no se dejó arrastrar a la Segunda Guerra Mundial.\\n\\nRelaciones diplomáticas \\nLa división de la India planteó de nuevo el problema de la «Línea Durand», además de que Zahir reivindicó los territorios de los afganos que vivían en el nuevo Estado de Pakistán (problema del Pathanistán). La crisis se prolongó hasta 1963, cuando se firmó un acuerdo con Pakistán; casi al mismo tiempo se firmó un acuerdo con China. Resueltos estos problemas exteriores, Zahir dio una nueva prueba de voluntad reformadora al hacer aprobar, en 1964, por la Asamblea Constituyente, una nueva constitución y al estimular la escolarización de las mujeres, a las que en 1959 se había concedido el derecho de no llevar velo. La ayuda internacional, en la que participaban la República Federal de Alemania, Estados Unidos y, sobre todo, la URSS (acuerdos de 1964), empezó a ser más importante.\\n\\nRevolución e invasión soviética \\n\\nTras las reformas de Zahir una crisis de modernización sacudió el país, poco preparado para una transformación. En 1965 se creó por un grupo de intelectuales del Partido Democrático del Pueblo (PDP), una escisión dentro del partido gobernante, que acabó por dividirse, en 1967, en dos partidos, el Khalq y el Parcham, que se enfrentaron violentamente en movimientos de agitación estudiantil (1969), dando como resultado un Parlamento incapaz de legislar. Además, en 1970 y 1971, las cosechas fueron catastróficas y el hambre asoló el país. Esto provocó un cambio de Gobierno, aunque la inestabilidad continuó. El 16 y 17 de julio de 1973, un golpe de Estado militar, dirigido por Sardar Muhammad Daud, primo y cuñado del rey, y apoyado por los dos partidos de la oposición derrocó a Zahir Shah, quien salió hacia el exilio en Roma. Fue proclamada la república. Pero la reforma agraria, que obtuvo poco apoyo, y el autoritarismo del presidente condujeron al derrocamiento de este en abril de 1978.\\n\\nEl socialista Nur Muhammad Taraki tomó el poder; pero, aunque de inspiración comunista, el nuevo régimen evitaba cuidadosamente toda alusión al marxismo. Sin embargo, el dominio soviético, directo o indirecto, aumentaba. En diciembre de 1978, se firmó un tratado de amistad y de cooperación entre Kabul y Moscú, que permitía, entre otras cosas, a la URSS intervenir militarmente para «proteger el país».\\n\\nAfganistán se encontraba entonces en pleno caos; unos 200000 afganos, entre ellos la comunidad kirguiz del Pamir, se refugiaron en Pakistán; se hablaba de 300000 muertos en 17 meses, 12000 a 15000 presos políticos, de provincias sublevadas, regiones enteras que escapaban al poder central y combates violentos. El 14 de septiembre de 1979 fue asesinado Nur Muhammad Taraki. Su sustituto, Hafizullah Amín, anunció a la vez su fidelidad al Kremlin y la adopción de medidas en favor del islam (reparación de mezquitas). Pero a su vez fue derrocado y ejecutado cuando se produjo la intervención militar soviética de diciembre de 1979, que instaló en el poder a Babrak Karmal. La prolongada intervención soviética tuvo como efecto la intensificación de la guerrilla interior (apoyada logísticamente desde el exterior por Pakistán,  y China) y la manifestación, en el mundo occidental y en el mundo islámico, de numerosas reacciones antisoviéticas. Asimismo, provocó un éxodo masivo de la población hacia Irán y Pakistán (tres millones en 1985).\\n\\nEl nuevo Gobierno inició un programa de reformas que eliminó la usura, inició una campaña de alfabetización, eliminó el cultivo del opio, legalizó los sindicatos, estableció una ley de salario mínimo y rebajó entre un 20 y un 30% los precios de artículos de primera necesidad. En cuanto a los derechos de la mujer, el régimen socialista otorgó permiso de no usar velo, abolió la dote, promovió la integración de mujeres al trabajo (245000 obreras y el 40% de los médicos son mujeres) y a la educación (el analfabetismo femenino es reducido del 98% al 75%, el 60% del profesorado de la Universidad de Kabul son mujeres, 440000 mujeres más trabajaban en educación y 80000 participaban en la campaña de alfabetización), así como a la vida política. El Decreto N.º\\xa07 del 17 de octubre de 1978 otorgó a las mujeres iguales derechos que los varones. El período de la República Democrática fue en el que más mujeres profesionales hubo en Afganistán.\\n\\nEstas reformas gubernamentales socavaron el orden tribal tradicional y provocaron oposición en las zonas rurales. Al mismo tiempo, el Gobierno reprimió brutalmente a la oposición con miles de ejecuciones políticas. Hasta 27000 fueron ejecutados en la prisión de Pul-e-Charkhi.\\n\\nTras la invasión del país por la URSS, en diciembre de 1979, 120000 soldados soviéticos se establecieron en Afganistán. La resistencia afgana se dividió en siete partidos políticos sunníes establecidos en Peshawar y ocho partidos chiitas establecidos en Irán. Los partidos sunníes (el 80 % de la población afgana es suní) eran mantenidos por Pakistán y recibían armas de Estados Unidos. Los chiitas administraban el centro del país (Hazarayat), que mantenían liberado casi en su totalidad desde 1979. Una guerra de diez años enfrentaría a un ejército soviético pesado y poco motivado, y una guerrilla legitimada por el islam y el nacionalismo. El Gobierno y los soviéticos controlaban las grandes ciudades y los ejes de comunicación, la resistencia dominaba el campo. En el interior del país, la resistencia se dividió en centenares de pequeños frentes, correspondiendo a menudo a la segmentación por comandantes locales, en general, intelectuales venidos de las ciudades, mullahs, o pequeños notables. Entre cuatro y cinco millones de refugiados se instalaron en Pakistán o en Irán. Babrak Karmal, al frente del Partido comunista y del Estado afgano, de diciembre de 1979 a 1986, no consiguió establecer el régimen socialista y revolucionario que soñaba. El partido estaba minado por la división entre la facción Khalq, mayoritaria y radical, que recluta sus efectivos sobre todo de la etnia pashto, y la facción Parcham, más moderada. Los comunistas aparecían además, como el partido del extranjero.\\n\\nImplicaciones internacionales \\n\\nEstados Unidos pretendió oponerse a la brecha abierta por los soviéticos en los países del tercer mundo durante los años setenta, preparando represalias contra la URSS si aumentaba la amenaza que la ocupación de Afganistán suponía para el control del golfo pérsico. El momento culminante de su ayuda financiera y militar fue la entrega a la resistencia de misiles antiaéreos Stinger (1986). Arabia Saudí se preocupó por impedir cualquier incursión de Irán, entonces en guerra con Irak. Se esforzó en constituir un frente de fundamentalistas sunníes, reclutados sobre todo entre la etnia pastún, en perjuicio de los chiitas e incluso de los sunníes de habla persa (llamados impropiamente tayikos), susceptibles a los ojos de los saudíes de preferir a Irán. Pakistán, bajo la égida del general Zia Ul-Haq, cuya política proseguiría tras su muerte (1988), tenía dos objetivos: eliminar la amenaza soviética con el fin de evitar quedar atrapado entre Afganistán y la India, aliados de la URSS, pero también establecer una especie de protectorado en un futuro Afganistán islámico.\\n\\nA pesar de las ofensivas sangrientas, sobre todo entre 1984 y 1986, los soviéticos no pudieron vencer en batallas decisivas contra la resistencia, ni siquiera cerrar la frontera con Pakistán. La guerra impidió también cualquier posible tregua con Estados Unidos. Cada año, en noviembre, una mayoría aplastante de los países miembros de la asamblea general de la ONU pedía la retirada de las tropas soviéticas. Desde su llegada al poder en 1985, Gorbachov se esforzó por salir del punto muerto militar y eliminar el obstáculo que representaba la cuestión afgana para la nueva distensión.\\n\\nGobierno de Najibulá y guerra civil \\nKarmal, reelegido jefe de Estado y secretario general del partido (en enero de 1986), fue desplazado de este último cargo y del poder por Mohammad Najibulá (en mayo de 1986). M. Najibulá, en 1987, lanzó un llamamiento a la «reconciliación nacional» e hizo adoptar en noviembre una constitución que no tenía influencias comunistas. En abril de 1988, los acuerdos de Ginebra ratificaron el calendario de retirada de las tropas soviéticas, sin que se llegara a un verdadero acuerdo político. Las últimas tropas soviéticas abandonaron el país en febrero de 1989. Su partida no permitió a la resistencia afgana apoderarse de la capital, sumida en numerosos conflictos tanto étnicos como políticos. En Peshawar, los moderados, en gran medida partidarios del anterior rey Mohammed Zahir Shah y pertenecientes a la élite tribal, se opusieron a los fundamentalistas que preconizaban un Estado islámico y que eran apoyados por el ejército paquistaní, los Hermanos Musulmanes Árabes y Arabia Saudita. El jefe de los fundamentalistas, Gulbuddin Hekmatyar, tomó posiciones claramente antioccidentales y lanzó ataques armados contra los otros grupos muyahidines, liderados por Mas‘ud, del valle del Panjshir. Un Gobierno interino de Afganistán formado en Peshawar en febrero de 1989 por los partidos sunníes, bajo la presión de Pakistán, no consiguió unir a los comandantes muyahidines del interior, acostumbrados a una gran autonomía, ni a los chiitas. Se llegó a una fase de estabilidad precaria; las grandes ciudades pasaron a estar controladas por el régimen, en tanto que el campo lo estaba por los muyahidines. Pero la guerra había perdido su aspecto ideológico, por cuanto el régimen de Kabul había renunciado a su identificación con el comunismo: el P.D.P.A. cambió su nombre en 1990 por el de Hizb-i Watan, Partido de la Patria. Por su parte, muchos muyahidines luchaban más por conservar el poder local que habían adquirido que por crear una improbable república islámica. Estados Unidos y la Unión Soviética, dada su voluntad de poner fin a uno de los últimos conflictos del tiempo de la Guerra Fría, se comprometieron en septiembre de 1992 a interrumpir sus entregas de armas a todos los bandos de la lucha en Afganistán (acuerdo que entró en vigor en enero de 1992). Al perder el apoyo soviético, Najibulá, que además había de enfrentarse a graves disensiones en el seno de su propio partido, vio debilitarse su posición en los primeros meses de 1992; su propuesta de un alto el fuego unilateral no logró la aceptación de las organizaciones de la resistencia. \\n\\nMientras la ONU multiplicaba sus intervenciones tratando de establecer una regulación política del conflicto, los muyahidines acentuaron su presión en el norte. En abril, se hicieron con el control de todo el país, y obligaron a Najibulá a dejar el poder. Un Consejo islámico, resultante de un pacto entre las diferentes facciones de la resistencia, se hizo cargo interinamente del gobierno del país, bajo la dirección de Sigbatullah Mojaddedi. Mas´ud fue nombrado ministro de Defensa. En junio, Mojaddedi cedió el poder a un consejo dirigente de diez miembros, presidido por Burhanuddin Rabbani. Sin embargo, pronto se reprodujeron las antiguas rivalidades entre muyahidines y etnias, y en agosto G. Hekmaktyar lanzó una gran ofensiva contra la capital: los enfrentamientos entre milicias fundamentalistas y fuerzas gubernamentales causaron más de 2000 muertos y provocaron el éxodo de más de un tercio de la población. Esta segunda batalla de Kabul fue acompañada de una multiplicación de los combates por el resto del país. Un consejo de 1335 delegados eligió a B. Rabbani jefe de Estado por un periodo de 18 meses (diciembre de 1992) y designó a cincuenta de sus miembros para formar un parlamento con poderes constituyentes (enero de 1993). En marzo las distintas facciones alcanzaron un consenso para que Gulbuddin Hekmatiar, dirigente de Hezbi Islami, ocupara el puesto de primer ministro, a la vez que ratificaban la elección de B. Rabbani.\\n\\nEstado Islámico de Afganistán \\n\\nTras la caída del anterior Gobierno en 1992 se creó el Estado Islámico de Afganistán a través de los Acuerdos de Peshawar.\\n\\nEmirato Islámico de Afganistán \\n\\nEn 1996 el movimiento talibán tomó el poder de Kabul e instauró un Gobierno basado en la Sharia. En 2001 una coalición comandada por Estados Unidos invadió el país derrocando a su gobernante Mohammad Omar e instaurando un nuevo régimen.\\n\\nRepública Islámica de Afganistán \\n\\nEn diciembre de 2001, después de que el Gobierno talibán fuera derrocado, se formó el nuevo Gobierno afgano, Hamid Karzai se proclamó como presidente, y se estableció la Fuerza Internacional de Asistencia para la Seguridad (ISAF) por el Consejo de Seguridad de las Naciones Unidas para ayudar a la administración Karzai y proporcionar una seguridad básica. Las fuerzas de los Talibanes, mientras tanto, comenzaron a reagruparse dentro de Pakistán. Más tropas de la coalición internacional entraron en Afganistán y comenzaron la reconstrucción del país, devastado por la guerra.\\n\\nTras perder el poder a manos de una coalición internacional (ISAF), los talibanes comenzaron un movimiento insurgente para recuperar el control de Afganistán. Durante la siguiente década, la ISAF y las tropas afganas llevaron a cabo numerosas ofensivas contra los talibanes, sin lograr claros resultados. Afganistán seguía siendo uno de los países más pobres del mundo, debido a la falta de inversión extranjera, la corrupción del Gobierno y la insurgencia talibán.\\n\\nMientras tanto, el Gobierno afgano fue capaz de construir unas estructuras democráticas, y el país cambió su nombre a la República Islámica de Afganistán. Se hicieron intentos, a menudo con el apoyo de los países donantes extranjeros, para mejorar la economía del país, la salud, la educación, el transporte y la agricultura. Las fuerzas de la ISAF también comenzaron a entrenar a las fuerzas de seguridad afganas. En la década posterior a 2002, más de cinco millones de afganos fueron repatriados, incluyendo algunos que fueron deportados por países occidentales.\\n\\nPara el año 2009, comenzó a formarse un gobierno en la sombra de control talibán en ciertas partes del país. En 2010, el presidente Karzai intentó mantener negociaciones de paz con los líderes talibanes, pero el grupo rebelde se negó a asistir hasta mediados de 2015, cuando el líder supremo de los talibanes, finalmente, decidió unirse a las conversaciones de paz.\\n\\nDespués de la muerte de Osama bin Laden en mayo de 2011 en Pakistán, fueron asesinadas muchas figuras prominentes afganas. Las escaramuzas en la frontera entre Afganistán y Pakistán se intensificaron y muchos ataques a gran escala por parte de la Red Haqqani comenzados en Pakistán también se llevaron a cabo en Afganistán. Estados Unidos culpó a infiltrados dentro del Gobierno paquistaní por el aumento de los ataques. El Gobierno de EE.UU. gastó decenas de miles de millones de dólares en ayuda para el desarrollo durante 15 años y más de mil millones de dólares en gastos militares durante el mismo período. La corrupción de los contratistas de defensa, de desarrollo occidentales y afganos asociados alcanzó niveles sin precedentes en un país donde el PIB nacional era a menudo solo una pequeña fracción del presupuesto anual del Gobierno de Estados Unidos para el conflicto.\\n\\nDespués de las elecciones presidenciales de Afganistán de 2014, Ashraf Ghani Ahmadzai se convirtió en presidente en septiembre de 2014. La guerra de Estados Unidos en Afganistán (la guerra más larga sostenida por los EE.UU. hasta ahora) terminó oficialmente el 28 de diciembre de 2014. Sin embargo, miles de tropas de la OTAN, lideradas por Estados Unidos, permanecieron en el país para entrenar y asesorar a las fuerzas del Gobierno afgano. Hasta 2016, la guerra de 2001 a 2021, se tradujo en más de 90.000 muertes relacionadas directamente con tal conflicto, cifra que incluye a las bajas de los insurgentes, los civiles afganos y las fuerzas gubernamentales. Más de 100.000 personas resultaron heridas.\\n\\nVuelta al poder de los talibanes \\n\\nEl 14 de abril de 2021, el secretario general de la OTAN, Jens Stoltenberg, dijo que la alianza acordó comenzar a retirar sus tropas de Afganistán antes del 1 de mayo. Poco después de que comenzara la retirada de las tropas de la OTAN, el Talibán lanzó una ofensiva contra el Gobierno afgano, avanzando rápidamente frente al colapso de las fuerzas del Gobierno afgano. Según un informe de inteligencia de Estados Unidos, era probable que el Gobierno afgano colapsase dentro de los seis meses posteriores a que la OTAN completase su retirada del país. El 15 de agosto de 2021, cuando los talibanes controlaban una vez más la gran mayoría del territorio afgano, los talibanes comenzaron a capturar la ciudad capital de Kabul, con evacuaciones a gran escala de civiles, funcionarios gubernamentales y diplomáticos extranjeros a través del Aeropuerto Internacional de Kabul controlado por las fuerzas de los Estados Unidos. Al parecer, se ordenó a los combatientes talibanes que no interfirieran en las evacuaciones de civiles y que dejaran salir de la ciudad a quienes quisieran. Más tarde, ese mismo día, los informes noticiosos afirmaron que Ashraf Ghani había abandonado Afganistán.\\n\\nGobierno y política \\n\\nDesde la caída de Kabul, la organización de los talibanes ha tomado el control de facto del país, conformando un Gobierno provisional. Paramilitares y exfuncionarios de la extinta República Islámica están alojados en el valle de Panshir, no reconociendo al nuevo Gobierno talibán.\\n\\nDerechos humanos \\n\\nAfganistán es considerado el país más peligroso del mundo para las mujeres.\\nAdemás de la pobreza y la corrupción, Afganistán es el país más peligroso donde pueda vivir una mujer si se toman en cuenta otros factores como la salud, la violencia sexual y no sexual, la violencia doméstica y la discriminación económica. El índice de mortalidad materna es de 1 cada 11 partos, el 87\\xa0% de las mujeres son analfabetas y hasta el 80\\xa0% padecen matrimonios forzados. Las mujeres no tienen acceso a servicios sanitarios básicos, ni a recursos financieros y carecen de libertad para elegir pareja.\\nSegún una encuesta realizada por la Thomson Reuters Foundation en 2011 y el International Rescue Committee, las mujeres corren mayor peligro por la falta de acceso a servicios médicos y la violencia de sus congéneres, que por las bombas y el mantenimiento de las hostilidades. La violación no está penada por la ley.\\n\\nDurante el Gobierno talibán las mujeres debieron taparse la cara para poder ver a un hombre que no es su marido o su hijo. Para ello se cubren con el burka completo (pieza de tela que cubre la cabeza y deja solo una rejilla de tela para ver). No pueden salir solas de casa. Ser azotadas públicamente es el castigo por mostrar los tobillos, usar tacones altos, lavar ropa en público, asomarse al balcón de su casa o viajar en taxi sin su tutor legal (padre, hermano o marido). También son castigadas por apariciones públicas, ya sea en revistas, libros, televisión, radio, o incluso baños públicos, ir a reuniones donde haya varones extraños o estrechar la mano o tocar a un hombre que no sea su marido. Las mujeres tenían prohibido estudiar (excepto la religión), trabajar, hacer tratos comerciales, usar maquillaje, pintarse las uñas, reírse en voz alta, vestirse con colores, ser fotografiadas o filmadas. Los derechos constitucionales de las mujeres son avasallados continuamente y las mujeres que quieren dedicarse a la función pública o a la política son perseguidas y acosadas. A pesar de que la nueva Constitución afgana de 2004 prohíbe cualquier tipo de discriminación y distinción entre los ciudadanos de Afganistán, existen leyes inconstitucionales contra las mujeres, como la que las obliga a obedecer las exigencias sexuales de sus esposos y otorga a estos el derecho a retirar la manutención básica, incluyendo los alimentos, si ella se niega, o la que da la custodia de los hijos exclusivamente a los varones. El 80\\xa0% de las mujeres sufre violencia doméstica, conducta que no está penada en Afganistán. En la práctica los cambios fueron limitados, ya que no tuvieron aceptación total, y, en consecuencia muchas mujeres continuaron padeciendo los mismos problemas. El matrimonio forzado, el matrimonio de niñas menores de edad y la violencia doméstica siguen siendo prácticas muy extendidas.\\nLas mujeres víctimas de violencia sexual son encarceladas acusadas de crímenes contra la moral. Las mujeres que huyen de sus casas por malos tratos también son encarceladas.\\n\\nOrganización territorial \\n\\nAfganistán está dividido administrativamente en 34 provincias (vilayatos). Cada provincia tiene una capital y un gobernador a cargo. Las provincias se dividen en 364 distritos, y cada uno de ellos normalmente cubre una ciudad o un número de aldeas. Cada distrito provincial está representado por un gobernador de distrito. El país no cuenta con una entidad de administración regional. Sin embargo tradicionalmente se divide el país en cinco cuadrantes, norte, sur, este, oeste más la central donde se encuentra la provincia y capital del país Kabul.\\n\\nLos gobernadores provinciales, así como los gobernadores de distrito, son elegidos para el cargo durante las elecciones presidenciales de la nación, que tienen lugar cada cinco años. Los gobernadores provinciales son los representantes del Gobierno central de Kabul y son responsables de todas las cuestiones administrativas y formales dentro de sus provincias. El jefe de la policía provincial es nombrado por el Ministerio del Interior en Kabul y trabaja junto con el gobernador de la provincia, en cumplimiento de la ley para todos los distritos de la provincia. Hay una excepción en la capital (Kabul), donde el alcalde es elegido directamente por el presidente, y es completamente independiente del gobernador de Kabul.\\n\\nGeografía \\n\\nAfganistán posee una superficie de 652\\xa0230 kilómetros cuadrados, de los cuales aproximadamente el 75\\xa0% es montañoso. De hecho, las poco pobladas tierras altas centrales conforman la mayor parte del Hindú Kush, la principal cadena montañosa del país y la segunda más alta del mundo, con varios picos por encima de los 6400 metros en su extremo oriental. El punto más elevado de este país mediooriental es la cima de la montaña Nowshak, a \\n\\nEn la región noreste existe una importante actividad sísmica que con frecuencia causa cientos de muertes. El clima puede catalogarse como continental extremo, con escasas precipitaciones. Una buena parte del territorio es desértico o semidesértico, excepto unos cuantos valles fértiles muy poblados, como el de Herat, al noroeste. La red fluvial es de tipo endorreico, siendo los ríos más importantes el Amu Daria (que es el cuasi mítico Oxus), el Helmand y el Kabul.\\n\\nEconomía \\n\\nAfganistán es un país extremadamente pobre, con una alta dependencia en la agricultura, pues la mayor parte de la población (90\\xa0%) trabaja en el sector agrícola cultivando cereales, frutales, frutos secos, algodón y papaya. La mayoría de la agricultura se realiza en las llanuras del norte, cerca de las fronteras con Turkmenistán, Uzbekistán y Tayikistán. También hay importantes rebaños de ovejas karakul, así como artesanía de alfombras. Posee importantes reservas de gas natural explotadas a baja escala por empresas de capital estadounidense y una industria (textiles, alimentos) de incipiente desarrollo. En general, la economía afgana tiene muy bajo desarrollo debido a la situación de guerra permanente, a la falta de un Gobierno central efectivo, y a la fragmentación de la sociedad en grupos tribales.\\n\\nLa agricultura es la principal fuente de ingreso de este país, pues se cultiva principalmente trigo, maíz, arroz, cebada, hortalizas, varios tipos de frutos secos, nueces, tabaco, algodón, remolacha y adormidera, esta última cultivada de manera ilícita para la fabricación de opio y sus derivados como la heroína, siendo el primer productor de opio en el mundo, según datos de la Oficina de Naciones Unidas contra la Droga y el Delito (ONUDD). Los productos principales de exportación de Afganistán son opio, frutos secos, alfombras, lana, algodón, pieles y cueros, piedras preciosas y semipreciosas. También se cultiva y se usa, en la industria de insumos, las semillas de ricino y rubia. En la ganadería, destaca la cría de ganado ovino que origina gran cantidad de carne, además de lana y pieles, para exportación. También se crían camellos, burros, vacas y cabras. Los productos principales de importación de Afganistán son maquinaria y bienes de equipo, alimentos, textiles y petróleo y sus derivados.\\n\\nLa economía ha sufrido bastante debido a agitaciones políticas y militares, así como a una sequía severa que ha añadido dificultades al país entre 1998 y 2001. La mayoría de la población sufre de insuficiencia de comida, vestido, vivienda, atención médica y otros problemas, todo esto empeorado por operaciones militares e incertidumbre política. La inflación constituye un serio problema. Luego de la guerra contra la coalición liderada por Estados Unidos, que provocó el derrocamiento del régimen talibán en noviembre de 2001, muchos de los agricultores han cambiado sus cultivos por paga en efectivo, en vez de cultivar alimentos para consumo interno, dando lugar a cultivos ilícitos como el de adormidera o amapola para producir opio, el cual se ha incrementado grandemente en la década del 2010; tal es así que Afganistán se convirtió en el primer proveedor ilegal de opio en el mundo.\\n\\nA pesar de la labor de la comunidad internacional y el Gobierno de Karzai para erradicar los cultivos ilícitos de adormidera o amapola, la dependencia de ésta en la economía del país sigue en aumento. Según la ONUDD, en el año 2006 el cultivo de adormidera creció un 59\\xa0% y la producción del opio creció un 49\\xa0%. En un artículo de la Washington Quarterly, Peter van Ham y Jorrit Kamminga dan más detalles de la economía ilícita del opio en Afganistán y posibles soluciones.\\n\\nEsfuerzos internacionales para la reconstrucción de Afganistán llevaron a la creación de la Autoridad Interina de Afganistán, como resultado del Acuerdo de Bonn de 2001. En enero de 2002, en la Conferencia de Donantes para la Reconstrucción de Afganistán en Tokio, se recolectaron unos 4500 millones de dólares, que serían administrados por el Banco Mundial. Las áreas prioritarias para la reconstrucción incluyen instalaciones sanitarias para educación y salud, mejora del sector agrícola, así como carreteras, energía y telecomunicaciones. Dos tercios de la población viven con menos de dos dólares al día.\\n\\nMinería \\n\\nLas riquezas económicas todavía no han sido explotadas en gran escala en la minería. Existen ruinas a  de Kabul, producto de intentos de extraer las riquezas de la minería, que fueron realizadas en la época de los soviéticos, esmeraldas, cromo, cinc, uranio e hidrocarburos. Aunque esto son cifras estimadas y susceptibles de ser modificadas con respecto al petróleo, solo en la cuenca del Amu Daria, se encuentran en explotación 322 pozos, donde se estima que hay entre  de crudo. Aunque la prensa occidental habla con euforia del descubrimiento repentino del «oro negro» afgano, desligándolo de la invasión y la ocupación del país, desde 1938 —cuando los británicos construyeron las primeras refinerías en Irán y Arabia— había conocimiento sobre los yacimientos petrolíferos de Angut, al norte de Afganistán, que en 1959 fueron explotados por los soviéticos, quienes construyeron el primer gasoducto del país que terminaba en Uzbekistán. Quien estaría manejando el proyecto de la futura explotación minera es la empresa estatal china China Metallurgical Group Corporation; además, el Banco Mundial ha invertido recursos para poder manejar el proyecto.\\n\\nEl oro, plata, cobre, berilio y lapislázuli han sido explotados en pequeñas cantidades en las áreas montañosas. También se explotan depósitos de carbón y gas natural (estos últimos en el norte del país, que se desarrollaron durante la ocupación soviética).\\n\\nEl 13 de junio de 2010 se publicó el hallazgo de litio entre los yacimientos del país, un mineral necesario para la fabricación de baterías de diferentes dispositivos.\\n\\nExportaciones e importaciones\\n\\nExportaciones \\n\\nEn 2016, Afganistán exportó $482.000.000, lo que lo convierte en el 104° exportador en el mundo. En los últimos cinco años, la tasa de exportación cayó un 15,48\\xa0%, siendo $531.000.000 en 2011 y $482.000.000 en la actualidad. Las exportaciones más recientes son lideradas por las uvas, que representa el 20\\xa0% de las exportaciones totales del país, seguidos por jugos de verduras, que representan el 17,8\\xa0%. Los principales destinos de las exportaciones son la India, con el 46\\xa0% ($220.000.000), Pakistán con el 41\\xa0% ($200.000.000), Irán con el 3,1\\xa0% ($15.100.000), Irak con el 2,1\\xa0% ($10.100.000) y Turquía con el 1,9\\xa0% ($9.150.000).\\n\\nImportaciones \\n\\nEn 2016, Afganistán importó $3.770.000.000, lo que lo convierte en el 93.° importador en el mundo. En los últimos cinco años, la tasa de importación cayó un 51,12\\xa0%, siendo $12.500.000.000 en 2011 y $3.770.000.000 en la actualidad. Las importaciones más recientes son lideradas por el trigo, que representa el 17,6\\xa0% de las importaciones totales del país, seguidos por la turba, que representan el 15,9\\xa0%. Los principales orígenes de las importaciones son Irán, con el 22\\xa0% ($840.000.000), Pakistán con el 17\\xa0% ($653.000.000), China con el 14\\xa0% ($526.000.000), Kazajistán con el 13\\xa0% ($499.000.000) y Turkmenistán con el 7,7\\xa0% ($289.000.000).\\n\\nInfraestructura\\n\\nComunicaciones y tecnología \\n\\nAfganistán avanzó rápidamente en la tecnología de las comunicaciones y durante el régimen anterior a 2021 contó con empresas de comunicación inalámbrica, Internet, radiodifusoras y canales de televisión. Las empresas de telecomunicaciones afganas Afghan Telecom, Afghan Wireless, Roshan (que es en parte propiedad del príncipe Karim Aga Khan IV), MTN Group y Etisalat lograron un rápido incremento en el uso de teléfonos celulares. En 2011 existían 16,8 millones de líneas móviles.\\n\\nLa telefonía fija es manejada desde 2006 por Afghan Telecom, creada en ese año con la misión de reconstruir una red destruida por dos décadas de guerra. En 2011 había solamente 72\\xa0700 líneas fijas. En el 2006, el Ministerio Afgano de Comunicaciones firmó un contrato de 64,5 millones de dólares con ZTE Corporation para la creación de una red nacional de cable de fibra óptica. \\n\\nLos servicios postales y de entrega de paquetes (como FedEx, DHL y otros) existen en las principales ciudades y pueblos. A partir de 2008, el país tiene 460000 líneas de teléfono, y alrededor de 500000 personas (1,5\\xa0% de la población) tienen acceso a Internet.\\n\\nTransporte \\n\\nLa aerolínea Ariana Afghan Airlines despachaba vuelos hacia Fráncfort del Meno, Dubái y Estambul, desde Kabul y Herat. El país contó con servicios de vuelos nacionales e internacionales disponibles con las empresas de propiedad local, como Air Kam, Pamir Airways y Airways Safi. A partir del 15 de agosto de 2021 estuvieron suspendidos los vuelos civiles en el aeropuerto de Kabul, tras la ocupación militar de las instalaciones por las fuerzas de ocupación de los Estados Unidos a fin de facilitar la evacuación de ciudadanos extranjeros y afganos que necesitaban dejar el país tras la toma de Kabul por las fuerzas que derrocaron el gobierno de Ashraf Ghani. A partir del 13 de septiembre se comenzó a retomar la actividad comercial con vuelos chárter a Pakistán e Irán.\\n\\nLos automóviles fueron más asequibles tras la ocupación de fuerzas extranjeras de 2002 , siendo Toyota, Land Rover, BMW y Hyundai los concesionarios más habituales. La mayoría de los ciudadanos que viajan grandes distancias usan los servicios de autobús. Los nuevos automóviles se han vuelto más ampliamente disponibles después de la reconstrucción de caminos y carreteras. Los vehículos son importados de los Emiratos Árabes Unidos a través de Pakistán e Irán.\\n\\nEl país cuenta con un servicio ferroviario limitado con Turkmenistán y Uzbekistán en el norte. Hay dos proyectos ferroviarios más actualmente en curso con los países vecinos; uno pretende conectar Herat e Irán, mientras que el otro quiere conectar con los ferrocarriles pakistaníes.\\n\\nMedios de comunicación \\n\\nLos medios de comunicación estuvieron estrechamente controlados por los talibanes, tanto que la televisión fue cerrada en 1996 y a la prensa se le prohibió publicar comentarios, fotos o cartas de los lectores. Radio Kabul solo transmitía programas religiosos y de propaganda, y salía al aire sin música. Después de que el nuevo Gobierno asumiera en 2001, las restricciones a la prensa se han aligerado de manera gradual y diversificado los medios de comunicación privados. La libertad de expresión y de prensa se promueve en la Constitución de 2004 y la censura fue prohibida, a pesar de que difamar a las personas o la producción de material contrario a los principios del islam está prohibida. En 2008, Reporteros sin Fronteras colocó al país en el puesto 156 de 173, siendo los primeros más libres. 400 publicaciones están registradas, por lo menos 15 canales locales de televisión afgana y 60 emisoras de radio. Las estaciones de radio extranjeras, como el Servicio Mundial de la BBC, también se transmiten en el país.\\n\\nAlgunos diarios de Afganistán son Arman e milli, Hasht e subh, Mandegar y Outlook.\\n\\nDemografía \\n\\nEn 2007, Afganistán tenía una población de  habitantes. La esperanza de vida en 2018 se estimaba en los 49 años. Estimaciones del Banco Mundial para el año 2019, elevaban la esperanza de vida a los 65 años. A 2020 el 43\\xa0% de la población estaba alfabetizada. El promedio de hijos por mujer es de 6,64, una de las tasas más elevadas del planeta, que está provocando un incremento demográfico nunca visto en la historia del país.\\n\\nAfganistán es un país multilingüe, multiétnico y multicultural, y además está en una encrucijada entre el este (China), el sur (Asia meridional, incluido Pakistán), el oeste (Oriente Medio, incluido Irán) y el norte (grupo de países de la antigua URSS). También fue un antiguo punto de encuentro del comercio y migración. A lo largo de la historia, la región de la moderna Afganistán fue invadida por varios pueblos, que incluyen los persas, griegos, árabes, turcos, mongoles, británicos, soviéticos y por la coalición liderada por EE.\\xa0UU. en 2001.\\n\\nLa población de Afganistán está dividida en un gran número de grupos étnicos. Como no se ha llevado a cabo un censo sistemático en el país últimamente, no se cuenta con cifras exactas del tamaño y composición de los variados grupos étnicos. Por lo tanto, la mayoría de las cifras son solo aproximaciones. Según el CIA World Factbook (actualizado el 23 de noviembre de 2012), la distribución de grupos étnicos es la siguiente:\\n Pastunes: 42\\xa0%\\n Tayikos: 27\\xa0%\\n Hazaras: 9\\xa0%\\n Uzbekos: 9\\xa0%\\n Aimak: 4\\xa0%\\n Turcomanos: 3\\xa0%\\n Baluchi: 2\\xa0%\\n Otros: 4\\xa0%\\n\\nLos idiomas oficiales de Afganistán son el persa afgano o dari (persa), hablado por el 50\\xa0% de la población, y el pastún, hablado por el 35\\xa0% de la población. Otras lenguas incluyen idiomas turcos, entre ellos, uzbeko y turcomano o turkmeno (este último, hablado por el 10\\xa0% de los habitantes), así como 30 lenguas menores. El bilingüismo es común, y esta es una de las razones por las cuales los porcentajes resultan variables.\\n\\nReligiosamente, los afganos son predominantemente musulmanes (de los cuales aproximadamente 80-89\\xa0% son sunníes y 10-19\\xa0% son chiíes). Hay también minorías budistas, hinduistas y sijs. Una minoría judía milenaria se ha reducido desde hace algunos años. Muchos de los judíos huyeron en los noventa (durante la guerra civil y durante el régimen islamista radical de los talibanes) hacia los países vecinos, a Europa y al continente americano. Con la caída de los talibanes, algunos sijs y judíos han retornado a la provincia afgana de Ġaznī.\\n\\nDurante los últimos años, Afganistán se ha mantenido fuera de la lista de países ordenados según su Índice de Desarrollo Humano elaborada por la ONU, debido a que no es posible recopilar datos suficientes para una correcta clasificación. En todo caso, cabría esperar que Afganistán fuera el último en dicho ranking, dado su escaso desarrollo económico y social.\\n\\nAfganistán es muy pobre; de hecho, en 1995 ocupó el puesto 192.º (el último) en la clasificación de países según el consumo de calorías de su población. Miles de personas carecen de alimentos, vivienda y asistencia sanitaria. Entre 1979 y 2000, una tercera parte de su población abandonó el territorio, huyendo de la guerra, estimándose que son cerca de seis millones los refugiados afganos establecidos en Pakistán e Irán, quienes poco a poco han regresado a Afganistán.\\n\\nAlgunas de las principales ciudades son:\\n\\nEducación \\n\\nPara el año 2017 se estimó que los gastos de educación alcanzaron el 4,1% del PBI.\\n\\nA partir de 2006, más de cuatro millones de alumnos de ambos sexos estaban inscritos en todo el país. \\n\\nTras el establecimiento del Emirato Islámico, existen diversos obstáculos significativos en la educación del país, debido a la falta de financiación, edificios escolares inseguros y reglas culturales. La falta de profesores es otro obstáculo.\\n\\nLa tasa de alfabetización según estimación de 1999 es de 36%: el 51% de los hombres y el 21% de las mujeres. Actualmente hay unas 9500 escuelas en el país.\\n\\nLas mejores universidades de Afganistán son la Universidad Americana de Afganistán (AUAF), seguida de la Universidad de Kabul (KU), ambas ubicadas en Kabul. La Academia Militar Nacional de Afganistán, fue una institución de desarrollo militar de cuatro años dedicada a graduar a los oficiales de las Fuerzas Armadas afganas. La Universidad de Defensa Afgana fue construida cerca de Qargha en Kabul. Las principales universidades fuera de Kabul incluyen la Universidad de Kandahar en el sur, la Universidad de Herat en el noroeste, la Universidad de Balkh y la Universidad de Kunduz en el norte, la Universidad de Nangarhar y la Universidad de Khost (SZU) en el este. Estados Unidos planificó construir seis facultades de educación y cinco colegios provinciales de formación de docentes en todo el país, dos grandes escuelas secundarias en Kabul y una escuela en Jalalabad, durante los años de invasión.\\n\\nReligión \\n\\nLa cultura de Afganistán ha recibido una enorme influencia del islam, pero también en menor medida por el budismo y el zoroastrismo. El país ha sido un cruce de caminos a lo largo de la historia para la India, Irán y Asia Central, lo cual ha repercutido sobre su civilización.\\n\\nLa mayoría de los afganos (cerca del 99\\xa0%) son musulmanes, de los cuales el 80\\xa0% son suníes y solo el 19\\xa0% son chiíes. Una importante figura de la vida musulmán en Afganistán es el mulá (líder religioso o instructor). Cualquier hombre que pueda recitar el Corán de memoria puede ser un mulá.\\n\\nEl pueblo hazara es predominantemente chiita, principalmente de la rama de los Doce con algunos grupos más pequeños que practican la rama del ismailismo, aunque también hay una pequeña minoría sunita. Los tizks Qizilbash de Afganistán han sido tradicionalmente chiitas.\\n\\nMiles de sikhs e hindúes afganos también se encuentran en las principales ciudades. Había una pequeña comunidad judía en Afganistán que había emigrado a Israel y los Estados Unidos a fines del ; al menos un judío, Zablon Simintov, permaneció. Hay entre 500 y 8000 cristianos en Afganistán, los cuales practican su fe de forma clandestina debido a la gran oposición social existente.\\n\\nCultura \\n\\nAfganistán cuenta con una compleja historia, que ha quedado reflejada en su actual civilización, idiomas y monumentos. Los afganos se muestran orgullosos de su país, su linaje y soberanía. Al estar en un cruce de caminos de múltiples rutas comerciales e imperios, la cultura afgana es rica y multilingüe, con herencias de todas las etnias y pueblos que arribaron a su territorio, donde el islam tiene una importancia predominante, pero hay influencias budistas y nómadas. La literatura afgana la componen básicamente poemas en los idiomas persa y pastún. Su música la componen instrumentos de cuerda tradicionales como el laúd dotar o el laúd tanbur, por influencias árabes y persas y el tambor tabla, influencia india.\\n\\nDeporte \\n\\nEl buzkashi o kokpar es una actividad ecuestre practicada en Afganistán, y está considerada el deporte nacional.\\n\\nMientras que su selección de fútbol nunca se ha clasificado a la Copa Asiática, menos a la Copa Mundial de Fútbol, ya que siempre fue considerada una de las más débiles de la AFC, pero en los últimos años ha tenido un progreso importante, donde destacan grandes logros, como el título del Campeonato de la SAFF 2013.\\nA nivel clubes, existe la Liga Premier de Afganistán, fundada en 2012 y cuyo equipo más laureado es el Shaheen Asmayee, con 5 conquistas. Además, fue el primer equipo afgano en participar en un torneo internacional, fue en la Copa AFC 2017, cayendo en primera fase ante el Khosilot Farkhor de Tayikistán.\\n\\nVéase también \\n\\n Dinastía hotaki (1709-1738)\\n Imperio durrani (1747-1926)\\n Reino de Afganistán (1926-1973)\\n República de Afganistán (1973-1978)\\n República Democrática de Afganistán (1978-1992)\\n Estado Islámico de Afganistán (1992-1996)\\n Emirato Islámico de Afganistán (1996-2001)\\n Kafiristán\\n\\nReferencias\\n\\nBibliografía \\n Afganistán, crónica de una ficción de Mònica Bernabé Fernández, editorial Debate (2012), ISBN 978-84-9992-087-0.\\n \\n Gomà, Daniel. Historia de Afganistán: de los orígenes del Estado afgano a la caída del régimen talibán, Publicaciones de la Universidad de Barcelona (2011), ISBN 978-84-475-3484-5\\n\\nEnlaces externos \\n\\n Sitio de la Presidencia de Afganistán.\\n Perfiles de países de la FAO: Afganistán\\n\\n \\nRepúblicas islámicas\\nEstados sin litoral\\nPaíses de Asia\\nEstados miembros de la Organización de Cooperación Islámica\""
      ]
     },
     "execution_count": 5,
     "metadata": {},
     "output_type": "execute_result"
    }
   ],
   "source": [
    "full_df.iloc[18][\"text\"]"
   ]
  },
  {
   "cell_type": "markdown",
   "metadata": {},
   "source": [
    "## Limpieza"
   ]
  },
  {
   "cell_type": "markdown",
   "metadata": {},
   "source": [
    "#### Eliminación de newline (\\n) por espacios singulares"
   ]
  },
  {
   "cell_type": "code",
   "execution_count": 6,
   "metadata": {},
   "outputs": [],
   "source": [
    "full_df = full_df.replace({r'\\s+$': '', r'^\\s+': ''}, regex=True).replace(r' \\n\\n',  ': ', regex=True)"
   ]
  },
  {
   "cell_type": "code",
   "execution_count": 7,
   "metadata": {},
   "outputs": [],
   "source": [
    "full_df = full_df.replace({r'\\s+$': '', r'^\\s+': ''}, regex=True).replace(r'.\\n\\n',  '. ', regex=True)\n",
    "full_df = full_df.replace({r'\\s+$': '', r'^\\s+': ''}, regex=True).replace(r'  ',  ' ', regex=True)"
   ]
  },
  {
   "cell_type": "code",
   "execution_count": 9,
   "metadata": {},
   "outputs": [
    {
     "data": {
      "text/plain": [
       "54105"
      ]
     },
     "execution_count": 9,
     "metadata": {},
     "output_type": "execute_result"
    }
   ],
   "source": [
    "len(full_df.iloc[18][\"text\"])"
   ]
  }
 ],
 "metadata": {
  "kernelspec": {
   "display_name": "Python 3",
   "language": "python",
   "name": "python3"
  },
  "language_info": {
   "codemirror_mode": {
    "name": "ipython",
    "version": 3
   },
   "file_extension": ".py",
   "mimetype": "text/x-python",
   "name": "python",
   "nbconvert_exporter": "python",
   "pygments_lexer": "ipython3",
   "version": "3.11.9"
  }
 },
 "nbformat": 4,
 "nbformat_minor": 2
}
